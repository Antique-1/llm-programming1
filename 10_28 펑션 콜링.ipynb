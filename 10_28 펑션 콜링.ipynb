{
 "cells": [
  {
   "cell_type": "markdown",
   "id": "89ed04667a6b584a",
   "metadata": {},
   "source": [
    "# 펑션 콜링 적용하기\n",
    "타임존을 기반으로 현재 시간을 반환하는 실습 진행\n",
    "- 타임존이란 ? 전 세계적으로 시간대가 다르기 때문에, 특정 지역의 시간을 정확히 계산하기 위해서는 타임존 설정 필요"
   ]
  },
  {
   "cell_type": "markdown",
   "id": "466f348d505fde9f",
   "metadata": {},
   "source": [
    "## 1. 필요 라이브러리 불러오기\n",
    "`datetime`과 `pytz` 라이브러리를 사용하여 타임존을 설정하고 현재 시간을 가져올 수 있음"
   ]
  },
  {
   "cell_type": "code",
   "execution_count": null,
   "id": "fce1d6fcd3ff6b53",
   "metadata": {
    "ExecuteTime": {
     "end_time": "2025-10-27T13:15:00.349536Z",
     "start_time": "2025-10-27T13:15:00.344448Z"
    }
   },
   "outputs": [],
   "source": [
    "from datetime import datetime\n",
    "import pytz"
   ]
  },
  {
   "cell_type": "markdown",
   "id": "d30a81879677d74f",
   "metadata": {},
   "source": [
    "## 2. GPT에서 사용할 함수 정의하기\n",
    "타임존 기반 현재 시간을 반환하는 함수 정의"
   ]
  },
  {
   "cell_type": "markdown",
   "id": "5adc4d5862a6aa59",
   "metadata": {},
   "source": [
    "### get_current_time 함수 설명\n",
    "- `timezone` 매개변수: 타임존을 문자열로 입력받음. 기본값은 `Asia/Seoul`\n",
    "- `pytz.timezone(timezone)`: 입력받은 타임존에 맞는 시간대 설정\n",
    "- `datetime.now(tz)`: 설정된 타임존의 현재 시간을 가져옴\n",
    "- `strftime`: 시간을 `YYYY-MM-DD HH:MM:SS` 형식의 문자열로 변환"
   ]
  },
  {
   "cell_type": "code",
   "execution_count": null,
   "id": "a4680cd0bee04ac0",
   "metadata": {
    "ExecuteTime": {
     "end_time": "2025-10-27T13:19:07.282376Z",
     "start_time": "2025-10-27T13:19:07.278804Z"
    }
   },
   "outputs": [],
   "source": [
    "def get_current_time(timezone: str = 'Asia/Seoul'):\n",
    "    tz = pytz.timezone(timezone) # 타임존 설정\n",
    "    now = datetime.now(tz).strftime(\"%Y-%m-%d %H:%M:%S\") # 설정한 타임존의 현재 시간을 다음 시간 포맷과 같이 반환 ex) 2025-10-27 20:00:00\n",
    "    now_timezone = f'{now} {timezone}'\n",
    "    print(now_timezone)\n",
    "    return now_timezone"
   ]
  },
  {
   "cell_type": "markdown",
   "id": "47c6a84dc0cbf100",
   "metadata": {},
   "source": [
    "## 3. 함수 실행해보기\n",
    "아래 코드를 실행하여 `America/New_York` 타임존의 현재 시간 확인"
   ]
  },
  {
   "cell_type": "code",
   "execution_count": 3,
   "id": "b878198dcd8c5fc",
   "metadata": {
    "ExecuteTime": {
     "end_time": "2025-10-27T13:19:25.128607Z",
     "start_time": "2025-10-27T13:19:25.105566Z"
    }
   },
   "outputs": [
    {
     "name": "stdout",
     "output_type": "stream",
     "text": [
      "2025-10-27 22:03:58 America/New_York\n"
     ]
    },
    {
     "data": {
      "text/plain": [
       "'2025-10-27 22:03:58 America/New_York'"
      ]
     },
     "execution_count": 3,
     "metadata": {},
     "output_type": "execute_result"
    }
   ],
   "source": [
    "get_current_time('America/New_York')"
   ]
  },
  {
   "cell_type": "markdown",
   "id": "8209841f05d8c2d",
   "metadata": {},
   "source": [
    "## 4. GPT를 위해 사용할 함수 설명 추가하기\n",
    "GPT API 호출 시 펑션 콜링할 도구를 정의해야 함\n",
    "\n",
    "콜링할 함수의 메타데이터를 JSON 형식으로 정의하며, 도구의 이름, 설명, 매개변수 등을 포함하고 있음"
   ]
  },
  {
   "cell_type": "markdown",
   "id": "eb53368d94ded23f",
   "metadata": {},
   "source": [
    "### 도구 추가 설명\n",
    "- `type`: 이 도구가 함수임을 나타냄\n",
    "- `name`: 함수 이름 정의\n",
    "- `description`: 함수의 역할 설명\n",
    "- `parameters`: 함수가 받을 매개변수의 형식과 설명 정의"
   ]
  },
  {
   "cell_type": "code",
   "execution_count": null,
   "id": "613730758469ab56",
   "metadata": {
    "ExecuteTime": {
     "end_time": "2025-10-27T13:20:43.246086Z",
     "start_time": "2025-10-27T13:20:43.243345Z"
    }
   },
   "outputs": [],
   "source": [
    "tools = [\n",
    "    {\n",
    "        \"type\": \"function\",\n",
    "        \"function\": {\n",
    "            \"name\": \"get_current_time\",\n",
    "            \"description\": \"해당 타임존의 날짜와 시간을 반환합니다.\",\n",
    "            \"parameters\": {\n",
    "                \"type\": \"object\",\n",
    "                \"properties\": {\n",
    "                    'timezone': {\n",
    "                        'type': 'string',\n",
    "                        'description': '현재 날짜와 시간을 반환할 타임존을 입력하세요. (예: Asia/Seoul)',\n",
    "                    },\n",
    "                },\n",
    "                \"required\": ['timezone'],\n",
    "            },\n",
    "        }\n",
    "    },\n",
    "]"
   ]
  },
  {
   "cell_type": "markdown",
   "id": "1495d23bf719495f",
   "metadata": {},
   "source": [
    "## 5. 코드 실행\n",
    "아래 코드를 실행하여 전체 코드 테스트"
   ]
  },
  {
   "cell_type": "code",
   "execution_count": 5,
   "id": "c508071811357045",
   "metadata": {
    "ExecuteTime": {
     "end_time": "2025-10-27T13:21:55.148346Z",
     "start_time": "2025-10-27T13:21:55.146177Z"
    }
   },
   "outputs": [
    {
     "name": "stdout",
     "output_type": "stream",
     "text": [
      "2025-10-27 22:03:58 America/New_York\n"
     ]
    }
   ],
   "source": [
    "if __name__ == '__main__':\n",
    "    get_current_time('America/New_York')"
   ]
  },
  {
   "cell_type": "markdown",
   "id": "623d01cb1639e574",
   "metadata": {},
   "source": [
    "# 6. GPT 실행\n",
    "- GPT 실행을 위해 필요한 라이브러리 불러오기"
   ]
  },
  {
   "cell_type": "code",
   "execution_count": 6,
   "id": "ffb3a58e9cee819c",
   "metadata": {
    "ExecuteTime": {
     "end_time": "2025-10-27T13:25:20.525559Z",
     "start_time": "2025-10-27T13:25:19.975209Z"
    }
   },
   "outputs": [],
   "source": [
    "from openai import OpenAI\n",
    "from dotenv import load_dotenv\n",
    "import os\n",
    "import json"
   ]
  },
  {
   "cell_type": "code",
   "execution_count": null,
   "id": "5cb752395b44e9f3",
   "metadata": {
    "ExecuteTime": {
     "end_time": "2025-10-27T13:25:24.640634Z",
     "start_time": "2025-10-27T13:25:24.591405Z"
    }
   },
   "outputs": [],
   "source": [
    "api_key = =  # 환경 변수에서 API 키 가져오기\n",
    "\n",
    "client = OpenAI(api_key=api_key)  # 오픈AI 클라이언트의 인스턴스 생성"
   ]
  },
  {
   "cell_type": "markdown",
   "id": "793afbcad2651899",
   "metadata": {},
   "source": [
    "## GPT에 tools 정보 포함하기\n",
    "- 기존 `get_ai_response` 함수 파라미터에 tools 추가\n",
    "- `tools`에 gpt_functions의 `tools` 대입해주면 위에서 정의한 `get_current_time` 함수를 사용할 수 있음"
   ]
  },
  {
   "cell_type": "code",
   "execution_count": 9,
   "id": "f40d0120ad92f5dc",
   "metadata": {
    "ExecuteTime": {
     "end_time": "2025-10-27T13:34:49.725184Z",
     "start_time": "2025-10-27T13:34:49.718195Z"
    }
   },
   "outputs": [],
   "source": [
    "def get_ai_response(messages, tools=None):\n",
    "    response = client.chat.completions.create(\n",
    "        model=\"gpt-4o\",  # 응답 생성에 사용할 모델 지정\n",
    "        messages=messages,  # 대화 기록을 입력으로 전달\n",
    "        tools=tools,  # 사용 가능한 도구 목록 전달\n",
    "    )\n",
    "    return response  # 생성된 응답 내용 반환"
   ]
  },
  {
   "cell_type": "markdown",
   "id": "5a3405f934bceeaf",
   "metadata": {},
   "source": [
    "## get_ai_response 함수 실행 준비하기\n",
    "아래 코드는 사용자 입력을 받아 GPT와 대화를 진행하는 내용\n",
    "\n",
    "- `input`: 사용자로부터 입력을 받음\n",
    "- `exit`: 사용자가 \"exit\"을 입력하면 대화를 종료\n",
    "- `messages`: 대화 맥락을 유지할 수 있도록 계속 append 시켜줌, 사용자와 GPT의 메시지를 저장함"
   ]
  },
  {
   "cell_type": "markdown",
   "id": "d8f4759c72392c50",
   "metadata": {},
   "source": [
    "### `tool_calls` 처리\n",
    "\n",
    "GPT가 도구를 호출해야 할 때 `tool_calls`가 포함됨\n",
    "\n",
    "- `tool_calls`?\n",
    "  - GPT가 특정 작업을 수행하기 위해 도구를 호출해야 한다고 판단하면 응답에 `tool_calls`가 포함됨\n",
    "\n",
    "  - ex) 사용자가 \"현재 시간을 알려줘\"라고 요청하면 GPT는 `get_current_time` 함수를 호출해야 한다고 판단할 수 있음\n",
    "\n",
    "- `tool_calls` 처리 과정\n",
    "  - `tool_calls`가 있는지 확인\n",
    "\n",
    "  - 호출해야 할 함수 이름과 매개변수 추출\n",
    "\n",
    "  - 해당 함수를 실행하고 결과를 대화 기록에 추가"
   ]
  },
  {
   "cell_type": "markdown",
   "id": "de188dbe04a0be56",
   "metadata": {},
   "source": [
    "- 다음 셀에서 실행한 질문들\n",
    "  - 1) 안녕하세요\n",
    "  - 2) 신기한 문장을 생성해보세요\n",
    "  - 3) 현재 서울의 시간은 몇시인가요?\n",
    "  - 4) 현재 태국 방콕의 시간은 몇시인가요?\n",
    "  - 5) 아름다운 문장을 생성해보세요\n",
    "  - 6) exit"
   ]
  },
  {
   "cell_type": "code",
   "execution_count": 10,
   "id": "4fd73e280c1bb418",
   "metadata": {
    "ExecuteTime": {
     "end_time": "2025-10-27T13:40:33.266866Z",
     "start_time": "2025-10-27T13:39:23.567755Z"
    }
   },
   "outputs": [
    {
     "name": "stdout",
     "output_type": "stream",
     "text": [
      "ChatCompletionMessage(content='안녕하세요! 무엇을 도와드릴까요?', refusal=None, role='assistant', audio=None, function_call=None, tool_calls=None, annotations=[])\n",
      "AI\t: 안녕하세요! 무엇을 도와드릴까요?\n",
      "ChatCompletionMessage(content='창의적인 아이디어를 생성하기 위한 몇 가지 방법을 소개해드릴게요. 다음 방법들을 활용해보세요:\\n\\n1. **랜덤 자극 사용**: 사전이나 인터넷에서 무작위로 단어를 선택한 다음, 그 단어를 활용해 새로운 해결책이나 아이디어를 떠올려 보세요.\\n\\n2. **SCAMPER 기법**: 기존 아이디어나 제품을 기반으로 다음 질문을 던져보세요:\\n   - 대체할 수 있는 것은 무엇인가? (Substitute)\\n   - 결합할 수 있는 것은 무엇인가? (Combine)\\n   - 적응할 수 있는 것은 무엇인가? (Adapt)\\n   - 수정, 확장, 축소할 수 있는 것은 무엇인가? (Modify)\\n   - 다른 용도로 사용할 수 있는 것은 무엇인가? (Put to another use)\\n   - 제거할 수 있는 것은 무엇인가? (Eliminate)\\n   - 재배열할 수 있는 것은 무엇인가? (Rearrange)\\n\\n3. **마인드맵 작성**: 중심 주제를 설정하고 그것과 관련된 아이디어를 가지를 뻗듯이 계속해서 확장해보세요.\\n\\n4. **브레인스토밍**: 제한 없이 모든 아이디어를 나열하고, 평가하지 않고 양을 늘려보는 시간을 가져보세요.\\n\\n5. **아날로그 탐색**: 다른 분야나 산업에서 사용되는 방법이나 도구를 참고하여 유사한 문제를 해결해보세요. 예를 들어, 자연에서 영감을 받아 새로운 디자인을 만들어보는 것입니다.\\n\\n6. **이야기 만들기**: 문제를 사람이 주인공인 이야기로 꾸며서 해결책을 찾아보세요.\\n\\n7. **시각적 사고 도구 활용**: 그림이나 차트를 사용하여 문제를 시각적으로 분석하고 해결 방안을 모색해보세요.\\n\\n어떤 방법을 사용하든 문제를 다양한 각도에서 바라보는 것이 중요합니다. 새로운 시각을 통해 독창적인 해결책을 떠올릴 수 있을 거예요! 더 도움이 필요하면 말씀해 주세요.', refusal=None, role='assistant', audio=None, function_call=None, tool_calls=None, annotations=[])\n",
      "AI\t: 창의적인 아이디어를 생성하기 위한 몇 가지 방법을 소개해드릴게요. 다음 방법들을 활용해보세요:\n",
      "\n",
      "1. **랜덤 자극 사용**: 사전이나 인터넷에서 무작위로 단어를 선택한 다음, 그 단어를 활용해 새로운 해결책이나 아이디어를 떠올려 보세요.\n",
      "\n",
      "2. **SCAMPER 기법**: 기존 아이디어나 제품을 기반으로 다음 질문을 던져보세요:\n",
      "   - 대체할 수 있는 것은 무엇인가? (Substitute)\n",
      "   - 결합할 수 있는 것은 무엇인가? (Combine)\n",
      "   - 적응할 수 있는 것은 무엇인가? (Adapt)\n",
      "   - 수정, 확장, 축소할 수 있는 것은 무엇인가? (Modify)\n",
      "   - 다른 용도로 사용할 수 있는 것은 무엇인가? (Put to another use)\n",
      "   - 제거할 수 있는 것은 무엇인가? (Eliminate)\n",
      "   - 재배열할 수 있는 것은 무엇인가? (Rearrange)\n",
      "\n",
      "3. **마인드맵 작성**: 중심 주제를 설정하고 그것과 관련된 아이디어를 가지를 뻗듯이 계속해서 확장해보세요.\n",
      "\n",
      "4. **브레인스토밍**: 제한 없이 모든 아이디어를 나열하고, 평가하지 않고 양을 늘려보는 시간을 가져보세요.\n",
      "\n",
      "5. **아날로그 탐색**: 다른 분야나 산업에서 사용되는 방법이나 도구를 참고하여 유사한 문제를 해결해보세요. 예를 들어, 자연에서 영감을 받아 새로운 디자인을 만들어보는 것입니다.\n",
      "\n",
      "6. **이야기 만들기**: 문제를 사람이 주인공인 이야기로 꾸며서 해결책을 찾아보세요.\n",
      "\n",
      "7. **시각적 사고 도구 활용**: 그림이나 차트를 사용하여 문제를 시각적으로 분석하고 해결 방안을 모색해보세요.\n",
      "\n",
      "어떤 방법을 사용하든 문제를 다양한 각도에서 바라보는 것이 중요합니다. 새로운 시각을 통해 독창적인 해결책을 떠올릴 수 있을 거예요! 더 도움이 필요하면 말씀해 주세요.\n",
      "ChatCompletionMessage(content='SCAMPER 기법은 다양한 아이디어를 창출하기 위해 여러 측면에서 기존의 제품이나 아이디어를 변형하고 발전시키는 방법입니다. 각 단계의 사례를 하나씩 들어볼게요.\\n\\n1. **Substitute (대체하기)**:\\n   - 예: 플라스틱 빨대를 스테인리스 스틸이나 종이 빨대로 대체. 이는 환경에 대한 영향을 줄이기 위한 노력의 일환입니다.\\n\\n2. **Combine (결합하기)**:\\n   - 예: 스마트폰에 카메라와 인터넷 기능을 결합. 이는 사용자에게 더 많은 기능을 하나의 장치에서 제공하기 위해 고안되었습니다.\\n\\n3. **Adapt (적용하기)**:\\n   - 예: 자동차 충전 시스템에 무선 충전 기술을 적용. 간편한 충전 방식으로 사용자 편의성을 높이는 사례입니다.\\n\\n4. **Modify (수정하기)**:\\n   - 예: 전통적 의자 디자인을 인체공학적 의자로 변경. 건강과 편안함을 높이기 위한 디자인 변경입니다.\\n\\n5. **Put to Another Use (다른 용도로 사용하기)**:\\n   - 예: 드론을 군사용에서 농작물 관리 모니터링으로 사용. 드론의 고유 기능을 다른 산업에 적용한 사례입니다.\\n\\n6. **Eliminate (제거하기)**:\\n   - 예: 무설탕 음료. 설탕을 제거하여 건강을 생각하는 소비자를 위한 제품입니다.\\n\\n7. **Rearrange (재배열하기)**:\\n   - 예: 기존 비행기 좌석 배치를 개선하여 더 넓은 공간을 제공. 공간 효율성을 높이고 승객의 만족도를 향상시키기 위한 변화입니다.\\n\\n이처럼 SCAMPER 기법은 다양한 산업과 제품에 적용될 수 있으며, 실험적인 사고와 창의성을 자극하는 데 유용합니다. 필요에 따라 각 단계를 조합하여 독자적인 아이디어를 개발할 수도 있습니다.', refusal=None, role='assistant', audio=None, function_call=None, tool_calls=None, annotations=[])\n",
      "AI\t: SCAMPER 기법은 다양한 아이디어를 창출하기 위해 여러 측면에서 기존의 제품이나 아이디어를 변형하고 발전시키는 방법입니다. 각 단계의 사례를 하나씩 들어볼게요.\n",
      "\n",
      "1. **Substitute (대체하기)**:\n",
      "   - 예: 플라스틱 빨대를 스테인리스 스틸이나 종이 빨대로 대체. 이는 환경에 대한 영향을 줄이기 위한 노력의 일환입니다.\n",
      "\n",
      "2. **Combine (결합하기)**:\n",
      "   - 예: 스마트폰에 카메라와 인터넷 기능을 결합. 이는 사용자에게 더 많은 기능을 하나의 장치에서 제공하기 위해 고안되었습니다.\n",
      "\n",
      "3. **Adapt (적용하기)**:\n",
      "   - 예: 자동차 충전 시스템에 무선 충전 기술을 적용. 간편한 충전 방식으로 사용자 편의성을 높이는 사례입니다.\n",
      "\n",
      "4. **Modify (수정하기)**:\n",
      "   - 예: 전통적 의자 디자인을 인체공학적 의자로 변경. 건강과 편안함을 높이기 위한 디자인 변경입니다.\n",
      "\n",
      "5. **Put to Another Use (다른 용도로 사용하기)**:\n",
      "   - 예: 드론을 군사용에서 농작물 관리 모니터링으로 사용. 드론의 고유 기능을 다른 산업에 적용한 사례입니다.\n",
      "\n",
      "6. **Eliminate (제거하기)**:\n",
      "   - 예: 무설탕 음료. 설탕을 제거하여 건강을 생각하는 소비자를 위한 제품입니다.\n",
      "\n",
      "7. **Rearrange (재배열하기)**:\n",
      "   - 예: 기존 비행기 좌석 배치를 개선하여 더 넓은 공간을 제공. 공간 효율성을 높이고 승객의 만족도를 향상시키기 위한 변화입니다.\n",
      "\n",
      "이처럼 SCAMPER 기법은 다양한 산업과 제품에 적용될 수 있으며, 실험적인 사고와 창의성을 자극하는 데 유용합니다. 필요에 따라 각 단계를 조합하여 독자적인 아이디어를 개발할 수도 있습니다.\n"
     ]
    }
   ],
   "source": [
    "messages = [\n",
    "    {\"role\": \"system\", \"content\": \"너는 사용자를 도와주는 상담사야.\"},  # 초기 시스템 메시지\n",
    "]\n",
    "\n",
    "while True:\n",
    "    user_input = input(\"사용자\\t: \")  # 사용자 입력 받기\n",
    "\n",
    "    if user_input == \"exit\":  # 사용자가 대화를 종료하려는지 확인\n",
    "        break\n",
    "\n",
    "    messages.append({\"role\": \"user\", \"content\": user_input})  # 사용자 메시지 대화 기록에 추가\n",
    "\n",
    "    ai_response = get_ai_response(messages, tools=tools)\n",
    "    ai_message = ai_response.choices[0].message\n",
    "    print(ai_message)  # gpt에서 반환되는 값을 파악하기 위해 임시로 추가\n",
    "\n",
    "    tool_calls = ai_message.tool_calls  # AI 응답에 포함된 tool_calls를 가져옴\n",
    "\n",
    "    if tool_calls:  # tool_calls가 있는 경우\n",
    "        for tool_call in tool_calls:\n",
    "            tool_name = tool_call.function.name # 실행해야한다고 판단한 함수명 받기\n",
    "            tool_call_id = tool_call.id         # tool_call 아이디 받기\n",
    "            arguments = json.loads(tool_call.function.arguments) # 문자열을 딕셔너리로 변환\n",
    "\n",
    "            if tool_name == \"get_current_time\":  # 만약 tool_name이 \"get_current_time\"이라면\n",
    "                messages.append({\n",
    "                    \"role\": \"function\",  # role을 \"function\"으로 설정\n",
    "                    \"tool_call_id\": tool_call_id,\n",
    "                    \"name\": tool_name,\n",
    "                    \"content\": get_current_time(timezone=arguments['timezone']),  # 타임존 추가\n",
    "                })\n",
    "\n",
    "        messages.append({\"role\": \"system\", \"content\": \"이제 주어진 결과를 바탕으로 답변할 차례다.\"})  # 함수 실행 완료 메시지 추가\n",
    "        ai_response = get_ai_response(messages, tools=tools) # 다시 GPT 응답 받기\n",
    "        ai_message = ai_response.choices[0].message\n",
    "\n",
    "    messages.append(ai_message)  # AI 응답을 대화 기록에 추가하기\n",
    "\n",
    "    print(\"AI\\t: \" + ai_message.content)  # AI 응답 출력"
   ]
  }
 ],
 "metadata": {
  "kernelspec": {
   "display_name": "cv",
   "language": "python",
   "name": "python3"
  },
  "language_info": {
   "codemirror_mode": {
    "name": "ipython",
    "version": 3
   },
   "file_extension": ".py",
   "mimetype": "text/x-python",
   "name": "python",
   "nbconvert_exporter": "python",
   "pygments_lexer": "ipython3",
   "version": "3.12.11"
  }
 },
 "nbformat": 4,
 "nbformat_minor": 5
}
